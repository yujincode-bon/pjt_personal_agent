{
 "cells": [
  {
   "cell_type": "markdown",
   "id": "2681ed42",
   "metadata": {},
   "source": [
    "## JSON 파일 병합 "
   ]
  },
  {
   "cell_type": "code",
   "execution_count": 1,
   "id": "c1995e1a",
   "metadata": {},
   "outputs": [
    {
     "name": "stdout",
     "output_type": "stream",
     "text": [
      "📦 병합된 JSON 저장 완료: supplement_rag_data_merged.json\n",
      "✅ 총 레코드 수: 306개\n"
     ]
    }
   ],
   "source": [
    "import json\n",
    "\n",
    "# 파일 경로\n",
    "file1 = \"/Users/gim-yujin/Desktop/pjt_personal_agent/영양소 데이터/JSON 파일 /supplement_rag_data_fixed.json\"         # 1차 파싱 성공 214개\n",
    "file2 = \"/Users/gim-yujin/Desktop/pjt_personal_agent/영양소 데이터/JSON 파일 /supplements_rag_data_final8.json\"       # 8차 보완 파싱 결과\n",
    "\n",
    "# JSON 로드\n",
    "with open(file1, \"r\", encoding=\"utf-8\") as f1, open(file2, \"r\", encoding=\"utf-8\") as f2:\n",
    "    data1 = json.load(f1)\n",
    "    data2 = json.load(f2)\n",
    "\n",
    "# 병합\n",
    "merged_data = data1 + data2\n",
    "\n",
    "# 저장\n",
    "output_file = \"supplement_rag_data_merged.json\"\n",
    "with open(output_file, \"w\", encoding=\"utf-8\") as f:\n",
    "    json.dump(merged_data, f, ensure_ascii=False, indent=2)\n",
    "\n",
    "print(f\"📦 병합된 JSON 저장 완료: {output_file}\")\n",
    "print(f\"✅ 총 레코드 수: {len(merged_data)}개\")"
   ]
  },
  {
   "cell_type": "markdown",
   "id": "5e8e7918",
   "metadata": {},
   "source": [
    "- 리뷰데이터 포함한 json 파일 생성\n",
    "\t•\t\"title\" 기준으로 정확히 일치할 경우에만 평점/리뷰를 붙입니다.\n",
    "\t•\t일치하지 않는 경우에는 \"avg_rating\": null, \"reviews_count\": null 으로 남습니다.\n",
    "\t•\t\"Avg rating\" 값은 문자열로 저장되어 있을 수 있어, 후속 처리 시 float 타입으로 변환할 수 있습니다 (예: float(item[\"avg_rating\"]))."
   ]
  },
  {
   "cell_type": "code",
   "execution_count": 3,
   "id": "2f9c2b1f",
   "metadata": {},
   "outputs": [
    {
     "name": "stderr",
     "output_type": "stream",
     "text": [
      "100%|██████████| 306/306 [00:00<00:00, 381073.94it/s]"
     ]
    },
    {
     "name": "stdout",
     "output_type": "stream",
     "text": [
      "✅ 새로운 JSON 저장 완료: supplement_rag_data_merged_with_reviews.json\n"
     ]
    },
    {
     "name": "stderr",
     "output_type": "stream",
     "text": [
      "\n"
     ]
    }
   ],
   "source": [
    "import json\n",
    "import pandas as pd\n",
    "from tqdm import tqdm\n",
    "\n",
    "# 1️⃣ 파일 경로 설정\n",
    "merged_file = \"/Users/gim-yujin/Desktop/pjt_personal_agent/영양소 데이터/JSON 파일 /supplement_rag_data_merged_cleaned.json\"\n",
    "raw_iherb_file = \"/Users/gim-yujin/Desktop/pjt_personal_agent/영양소 데이터/JSON 파일 /iherb_data_uk_data_2022_12.json\"\n",
    "output_file = \"supplement_rag_data_merged_with_reviews.json\"\n",
    "\n",
    "# 2️⃣ 원본 JSON 로드\n",
    "with open(raw_iherb_file, \"r\", encoding=\"utf-8\") as f:\n",
    "    raw_data = json.load(f)\n",
    "\n",
    "# 3️⃣ 제목 → 평점/리뷰수 딕셔너리 생성\n",
    "rating_dict = {}\n",
    "for item in raw_data:\n",
    "    title = item.get(\"Title\", \"\").strip()\n",
    "    rating = item.get(\"Avg rating\", None)\n",
    "    reviews = item.get(\"Reviews count\", None)\n",
    "\n",
    "    if title:\n",
    "        rating_dict[title] = {\n",
    "            \"Avg rating\": rating,\n",
    "            \"Reviews count\": reviews\n",
    "        }\n",
    "\n",
    "# 4️⃣ 기존 RAG JSON 로드\n",
    "with open(merged_file, \"r\", encoding=\"utf-8\") as f:\n",
    "    rag_data = json.load(f)\n",
    "\n",
    "# 5️⃣ 병합: title 기준\n",
    "for item in tqdm(rag_data):\n",
    "    title = item.get(\"title\", \"\").strip()\n",
    "    rating_info = rating_dict.get(title, {})\n",
    "    item[\"avg_rating\"] = rating_info.get(\"Avg rating\", None)\n",
    "    item[\"reviews_count\"] = rating_info.get(\"Reviews count\", None)\n",
    "\n",
    "# 6️⃣ 저장\n",
    "with open(output_file, \"w\", encoding=\"utf-8\") as f:\n",
    "    json.dump(rag_data, f, ensure_ascii=False, indent=2)\n",
    "\n",
    "print(f\"✅ 새로운 JSON 저장 완료: {output_file}\")"
   ]
  }
 ],
 "metadata": {
  "kernelspec": {
   "display_name": "3.13.2",
   "language": "python",
   "name": "python3"
  },
  "language_info": {
   "codemirror_mode": {
    "name": "ipython",
    "version": 3
   },
   "file_extension": ".py",
   "mimetype": "text/x-python",
   "name": "python",
   "nbconvert_exporter": "python",
   "pygments_lexer": "ipython3",
   "version": "3.13.2"
  }
 },
 "nbformat": 4,
 "nbformat_minor": 5
}
