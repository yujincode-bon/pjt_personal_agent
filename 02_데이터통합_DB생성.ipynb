{
 "cells": [
  {
   "cell_type": "markdown",
   "id": "2681ed42",
   "metadata": {},
   "source": [
    "## JSON 파일 병합 "
   ]
  },
  {
   "cell_type": "code",
   "execution_count": 1,
   "id": "c1995e1a",
   "metadata": {},
   "outputs": [
    {
     "name": "stdout",
     "output_type": "stream",
     "text": [
      "📦 병합된 JSON 저장 완료: supplement_rag_data_merged.json\n",
      "✅ 총 레코드 수: 306개\n"
     ]
    }
   ],
   "source": [
    "import json\n",
    "\n",
    "# 파일 경로\n",
    "file1 = \"/Users/gim-yujin/Desktop/pjt_personal_agent/영양소 데이터/JSON 파일 /supplement_rag_data_fixed.json\"         # 1차 파싱 성공 214개\n",
    "file2 = \"/Users/gim-yujin/Desktop/pjt_personal_agent/영양소 데이터/JSON 파일 /supplements_rag_data_final8.json\"       # 8차 보완 파싱 결과\n",
    "\n",
    "# JSON 로드\n",
    "with open(file1, \"r\", encoding=\"utf-8\") as f1, open(file2, \"r\", encoding=\"utf-8\") as f2:\n",
    "    data1 = json.load(f1)\n",
    "    data2 = json.load(f2)\n",
    "\n",
    "# 병합\n",
    "merged_data = data1 + data2\n",
    "\n",
    "# 저장\n",
    "output_file = \"supplement_rag_data_merged.json\"\n",
    "with open(output_file, \"w\", encoding=\"utf-8\") as f:\n",
    "    json.dump(merged_data, f, ensure_ascii=False, indent=2)\n",
    "\n",
    "print(f\"📦 병합된 JSON 저장 완료: {output_file}\")\n",
    "print(f\"✅ 총 레코드 수: {len(merged_data)}개\")"
   ]
  }
 ],
 "metadata": {
  "kernelspec": {
   "display_name": "3.13.2",
   "language": "python",
   "name": "python3"
  },
  "language_info": {
   "codemirror_mode": {
    "name": "ipython",
    "version": 3
   },
   "file_extension": ".py",
   "mimetype": "text/x-python",
   "name": "python",
   "nbconvert_exporter": "python",
   "pygments_lexer": "ipython3",
   "version": "3.13.2"
  }
 },
 "nbformat": 4,
 "nbformat_minor": 5
}
