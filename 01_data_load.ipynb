{
 "cells": [
  {
   "cell_type": "markdown",
   "id": "a349863b",
   "metadata": {},
   "source": [
    "# 데이터 구조 이해 & SQL 스키마 설계\n",
    "- JSON 데이터 로드 및 컬럼 확인 (pandas)\n",
    "- 결측치·중복 데이터 확인/정제\n",
    "- SQL DB 스키마 설계 (Supplements, Ingredients, Supplement_Ingredients, Symptoms_Ingredients)• 증상–성분 매핑 테이블 초안 작성"
   ]
  },
  {
   "cell_type": "markdown",
   "id": "49d1689c",
   "metadata": {},
   "source": [
    "- json 파일 데이터 개수: 1241개, 23열 ( )"
   ]
  },
  {
   "cell_type": "code",
   "execution_count": null,
   "id": "f3d51a8b",
   "metadata": {},
   "outputs": [],
   "source": [
    "import pandas as pd\n",
    "import numpy as np"
   ]
  },
  {
   "cell_type": "code",
   "execution_count": null,
   "id": "c2449e85",
   "metadata": {},
   "outputs": [],
   "source": [
    "\n",
    "# 1) 로드\n",
    "fp = '/Users/gim-yujin/Desktop/pjt_personal_agent/영양소 데이터/iherb_data_uk_data_2022_12.json'\n",
    "df = pd.read_json(fp, orient='records')   # 파일이 리스트 of dicts 여야 정상\n",
    "# 2) 전체 컬럼 확인\n",
    "print(df.shape)\n",
    "print(df.columns.tolist())\n",
    "# 3) 샘플 확인\n",
    "display(df.head())\n",
    "# 4) 기본 타입 정리\n",
    "df['scraped_at'] = pd.to_datetime(df['scraped_at'], dayfirst=True, errors='coerce')"
   ]
  },
  {
   "cell_type": "code",
   "execution_count": null,
   "id": "f3a430d1",
   "metadata": {},
   "outputs": [],
   "source": []
  },
  {
   "cell_type": "code",
   "execution_count": null,
   "id": "678fc877",
   "metadata": {},
   "outputs": [],
   "source": [
    "print(\"##컬럼명 목록\")\n",
    "print(df.columns)\n",
    "print(\"-\" * 50)\n",
    "# 컬럼별 결측치 개수 확인 \n",
    "print(\"##컬럼별 결측치 개수 확인(공백 문자열이 결측치로 합산이 안되어 모두 0으로 표기됨)\")\n",
    "print(df.isnull().sum())"
   ]
  },
  {
   "cell_type": "markdown",
   "id": "6ccc363c",
   "metadata": {},
   "source": [
    "### 결측치 확인\n",
    "- 결측값이 존재하는 컬럼 및 개수\n",
    "- Category 2            4\n",
    "- Category 3          869\n",
    "- ingredients          61\n",
    "- Supplement Facts    530 (추후에 성분을 참고하여 채워 넣을 예정, 보충정보(영양성분))"
   ]
  },
  {
   "cell_type": "code",
   "execution_count": null,
   "id": "f4aa9896",
   "metadata": {},
   "outputs": [],
   "source": [
    "# (선택) 모든 컬럼에 대해 한 번에 적용할 수도 있습니다.\n",
    "df.replace(r'^\\s*$', np.nan, regex=True, inplace=True)\n",
    "print(\"\\n## 전체 데이터의 실제 결측치 수\")\n",
    "print(df.isnull().sum())"
   ]
  },
  {
   "cell_type": "code",
   "execution_count": null,
   "id": "9d12f25b",
   "metadata": {},
   "outputs": [],
   "source": [
    "#  각 컬럼의 결측치 개수를 계산\n",
    "missing_values = df.isnull().sum()\n",
    "#  결측치 개수가 0보다 큰 컬럼들만 필터링하여 출력합니다.\n",
    "columns_with_missing_values = missing_values[missing_values > 0]\n",
    "\n",
    "print(\"## 결측값이 존재하는 컬럼 및 개수\")\n",
    "if columns_with_missing_values.empty:\n",
    "    print(\"모든 컬럼의 데이터가 채워져 있습니다.\")\n",
    "else:\n",
    "    print(columns_with_missing_values)"
   ]
  },
  {
   "cell_type": "code",
   "execution_count": null,
   "id": "e4081542",
   "metadata": {},
   "outputs": [],
   "source": [
    "#결측값이 존재하는 컬럼 선택 출력 확인 \n",
    "\n",
    "df_missing = df[columns_with_missing_values.index]\n",
    "print(df_missing)"
   ]
  },
  {
   "cell_type": "code",
   "execution_count": null,
   "id": "e6827246",
   "metadata": {},
   "outputs": [],
   "source": [
    "df[columns_with_missing_values.index]"
   ]
  },
  {
   "cell_type": "markdown",
   "id": "3f6230bf",
   "metadata": {},
   "source": [
    "### 중복 제거 "
   ]
  },
  {
   "cell_type": "markdown",
   "id": "98231d0a",
   "metadata": {},
   "source": [
    "- unique_id 기준(0)\n",
    "- Pid, title 기준(0)\n",
    "- 중복되는 아이템은 없음\n"
   ]
  },
  {
   "cell_type": "code",
   "execution_count": null,
   "id": "75738431",
   "metadata": {},
   "outputs": [],
   "source": [
    "# 중복 제거 (uniqe_id 기준으로는 중복 없음.)\n",
    "df = df.drop_duplicates(subset=['uniq_id'])  \n",
    "# uniq_id가 있으면 안전\n",
    "df.drop_duplicates(subset=['Pid','Title'])\n",
    "print(df)"
   ]
  },
  {
   "cell_type": "code",
   "execution_count": null,
   "id": "86011d94",
   "metadata": {},
   "outputs": [],
   "source": [
    "df.drop_duplicates(subset=['Pid','Title']) #여기도 중복은 없는 것으로 확인 "
   ]
  },
  {
   "cell_type": "code",
   "execution_count": null,
   "id": "3cf6dbe3",
   "metadata": {},
   "outputs": [],
   "source": [
    "df['Price'] = df['Price'].astype(str)\n",
    "# price >> 문자열로 공백/ 쉼표 제고후 float\n",
    "df['Price'] = df['Price'].str.replace(',', '').str.strip()\n",
    "df['Price'] = pd.to_numeric(df['Price'], errors='coerce')\n"
   ]
  },
  {
   "cell_type": "markdown",
   "id": "2cbb30a6",
   "metadata": {},
   "source": [
    "### 불필요한 레코드 필터링 \n",
    "- 카테고리 1, 2 기준으로 키워드 필터링 한 결과, 해당 데이터셋에서 영양제와 관련된 상품 개수는 1221->325 개로 감소함.\n"
   ]
  },
  {
   "cell_type": "code",
   "execution_count": null,
   "id": "643e6ca8",
   "metadata": {},
   "outputs": [],
   "source": [
    "## 화장품/ 샴푸/ 식품/ 베이비 용품 등 필터링 \n",
    "non_supp_cats = ['Shampoo','Foundation','Face Wash','Utensils','Diapers']  # 예시\n",
    "df = df[~df['Category 2'].isin(non_supp_cats)]\n",
    "df.count"
   ]
  },
  {
   "cell_type": "code",
   "execution_count": null,
   "id": "4f62c033",
   "metadata": {},
   "outputs": [],
   "source": [
    "# 'Category 1' 컬럼의 모든 고유값 출력\n",
    "print(\"Category 1의 고유값:\", df['Category 1'].unique())\n",
    "\n",
    "# 'Category 2' 컬럼의 모든 고유값 출력\n",
    "print(\"Category 2의 고유값:\", df['Category 2'].unique())\n",
    "\n",
    "# 'Category 3' 컬럼의 모든 고유값 출력\n",
    "print(\"Category 3의 고유값:\", df['Category 3'].unique())"
   ]
  },
  {
   "cell_type": "code",
   "execution_count": null,
   "id": "c88166b5",
   "metadata": {},
   "outputs": [],
   "source": [
    "## 화이트리스트 키워드(supp_keywords)\n",
    "\n",
    "supp_keywords = [\n",
    "    # 비타민·미네랄\n",
    "    'vitamin', 'multivitamin', 'multimineral', 'b1', 'b2', 'b3', 'b6',\n",
    "    'b12', 'c', 'd', 'e', 'k', 'folic acid', 'niacin', 'biotin',\n",
    "    'calcium', 'magnesium', 'zinc', 'iron', 'selenium', 'potassium',\n",
    "    'iodine', 'trace minerals',\n",
    "\n",
    "    # 오메가 & 필수지방산\n",
    "    'omega', 'fish oil', 'krill oil', 'cod liver oil',\n",
    "    'efa', 'dha', 'epa',\n",
    "\n",
    "    # 허브·식물 추출물\n",
    "    'herb', 'herbal', 'ashwagandha', 'ginseng', 'echinacea', 'turmeric',\n",
    "    'curcumin', 'milk thistle', 'rhodiola', 'elderberry', 'boswellia',\n",
    "    'sambucus', 'hawthorn', 'garlic', 'ginger', 'licorice', 'oregano',\n",
    "    'passion flower', 'valerian', 'chamomile', 'nettle', 'schisandra',\n",
    "    'astragalus',\n",
    "\n",
    "    # 아미노산·단백질\n",
    "    'amino', 'amino acid', 'l-',   # L-Arginine, L-Tyrosine 등 앞에 L-이 붙음\n",
    "    'protein', 'collagen', 'peptide',\n",
    "\n",
    "    # 프로바이오틱/소화\n",
    "    'probiotic', 'prebiotic', 'lactobacillus', 'bifidus',\n",
    "    'digestive enzymes', 'enzyme',\n",
    "\n",
    "    # 항산화·기타 보조성분\n",
    "    'coq10', 'ubiquinol', 'alpha lipoic acid', 'resveratrol',\n",
    "    'pycnogenol', 'glutathione', 'chlorophyll', 'spirulina',\n",
    "    'chlorella', 'maca', 'bee pollen', 'royal jelly',\n",
    "\n",
    "    # 특수 목적 포뮬러\n",
    "    'immune', 'immune support', 'energy formula', 'sleep formula',\n",
    "    'cognitive', 'memory', 'joint', 'bone', 'liver', 'thyroid',\n",
    "    'blood support', 'heart support', 'detox', 'women\\'s health',\n",
    "    'men\\'s health', 'prenatal', 'post-natal',\n",
    "    'sports supplement', 'workout', 'weight management', 'fat burner',\n",
    "\n",
    "    # 형태·일반명\n",
    "    'supplement', 'dietary', 'nutrition', 'nutrient',\n",
    "    'superfood', 'greens', 'superfood blend'\n",
    "]\n"
   ]
  },
  {
   "cell_type": "code",
   "execution_count": null,
   "id": "8c1b103e",
   "metadata": {},
   "outputs": [],
   "source": [
    "import re\n",
    "\n",
    "def is_supplement_row(row):\n",
    "    cats = \" \".join([\n",
    "        str(row.get('Category 2', '')).lower(),\n",
    "        str(row.get('Category 3', '')).lower()\n",
    "    ])\n",
    "    return any(re.search(rf\"\\b{k}\\b\", cats) for k in supp_keywords)\n",
    "\n",
    "df_supp = df[df.apply(is_supplement_row, axis=1)].copy()\n",
    "\n",
    "print(f\"필터 전 {len(df)} → 필터 후 {len(df_supp)}\")"
   ]
  },
  {
   "cell_type": "markdown",
   "id": "d939af01",
   "metadata": {},
   "source": [
    "### 제대로 필터링 되었는지 확인 작업\n",
    "- 멀티비타민과, 비타민 구분하여 놓았는지 "
   ]
  },
  {
   "cell_type": "code",
   "execution_count": null,
   "id": "546e0175",
   "metadata": {},
   "outputs": [],
   "source": [
    "import re\n",
    "\n",
    "# 1️⃣ 화이트리스트 기반 영양제 필터\n",
    "def is_supplement_row(row):\n",
    "    cats = \" \".join([\n",
    "        str(row.get('Category 2', '')).lower(),\n",
    "        str(row.get('Category 3', '')).lower()\n",
    "    ])\n",
    "    return any(re.search(rf\"\\b{k}\\b\", cats) for k in supp_keywords)\n",
    "\n",
    "df_supp = df[df.apply(is_supplement_row, axis=1)].copy()\n",
    "\n",
    "# 2️⃣ 블랙리스트 제거 (현재는 K-Beauty 하나지만 확장 가능)\n",
    "black_keywords = ['k-beauty']\n",
    "def not_blacklisted(row):\n",
    "    cats = \" \".join([\n",
    "        str(row.get('Category 1', '')).lower(),\n",
    "        str(row.get('Category 2', '')).lower(),\n",
    "        str(row.get('Category 3', '')).lower()\n",
    "    ])\n",
    "    return not any(bk in cats for bk in black_keywords)\n",
    "\n",
    "df_supp = df_supp[df_supp.apply(not_blacklisted, axis=1)].copy()\n",
    "\n",
    "print(f\"최종 필터 후 행 수 : {len(df_supp)}\")"
   ]
  },
  {
   "cell_type": "code",
   "execution_count": null,
   "id": "6e90f54a",
   "metadata": {},
   "outputs": [],
   "source": [
    "# 3️⃣ 무작위 100건 추출 (중복 없이)\n",
    "sample_100 = df_supp.sample(n=100, random_state=42)  # random_state는 재현성\n",
    "\n",
    "# 4️⃣ 검토에 유용한 컬럼만 보기\n",
    "cols_to_check = ['Title', 'Category 1', 'Category 2', 'Category 3', 'Description']\n",
    "print(sample_100[cols_to_check].to_string(index=False))\n",
    "\n"
   ]
  },
  {
   "cell_type": "markdown",
   "id": "b6b5875d",
   "metadata": {},
   "source": [
    "### “파싱(parsing)”: 문자열(예: Supplement Facts 텍스트) 안에서 우리가 원하는 정보(성분명, 용량, 단위 등)를 규칙적으로 뽑아내는 작업\n",
    "\n",
    "- 1.\tparse_supplement_facts()\n",
    "→ 텍스트를 줄 단위로 읽고 정규식으로 [성분, 수치, 단위] 추출.\n",
    "- 2.\tparse_and_flag()\n",
    "→ 전체 DataFrame에 적용, parsed_ingredients와 parse_error 컬럼 추가.\n",
    "- 3.\t수동 검토\n",
    "→ parse_error=True인 레코드만 CSV로 내보내어 직접 확인·수정.\n",
    "--- \n",
    "- df_supp_checked\n",
    "\n",
    "- parsed_ingredients: 파싱 성공 시 [{'name':…, 'amount':…, 'unit':…}, …] 리스트\n",
    "\n",
    "- parse_error: True(실패) / False(성공)\n",
    "\n",
    "- supplement_parse_errors.csv\n",
    "\n",
    "사람이 직접 살펴보고 정규식 보완이나 데이터 수동 입력이 필요한 상품 목록.\n"
   ]
  },
  {
   "cell_type": "code",
   "execution_count": 87,
   "id": "4b98d388",
   "metadata": {},
   "outputs": [],
   "source": [
    "keyword_pattern = r'(?i)' + '|'.join([re.escape(k) for k in supp_keywords])"
   ]
  },
  {
   "cell_type": "code",
   "execution_count": 88,
   "id": "8a74ec34",
   "metadata": {},
   "outputs": [],
   "source": [
    "def parse_supplement_facts(text):\n",
    "    \"\"\"\n",
    "    Supplement Facts 문자열에서\n",
    "    [성분명, 수치, 단위] 추출\n",
    "    \"\"\"\n",
    "    results = []\n",
    "    if not isinstance(text, str) or not text.strip():\n",
    "        return results  # 빈 값이면 바로 실패\n",
    "    \n",
    "    # 예) \"Vitamin C 500 mg\", \"Magnesium (as oxide) 250 mg\"\n",
    "    pattern = r'([A-Za-z0-9\\-\\(\\) /]+?)\\s+([\\d.,]+)\\s*(mg|mcg|µg|g|iu|IU)'\n",
    "    \n",
    "    for line in text.splitlines():\n",
    "        m = re.search(pattern, line)\n",
    "        if m:\n",
    "            name = m.group(1).strip()\n",
    "            amount = float(m.group(2).replace(',', ''))\n",
    "            unit = m.group(3).lower()\n",
    "            results.append({\n",
    "                'name': name,\n",
    "                'amount': amount,\n",
    "                'unit': unit,\n",
    "                'raw_line': line.strip()\n",
    "            })\n",
    "    return results"
   ]
  },
  {
   "cell_type": "code",
   "execution_count": 89,
   "id": "fd6c8d90",
   "metadata": {},
   "outputs": [],
   "source": [
    "def parse_and_flag_supp(df_supp):\n",
    "    parsed_results = []\n",
    "    parse_error_flags = []\n",
    "\n",
    "    for text in df_supp['Supplement Facts']:\n",
    "        parsed = parse_supplement_facts(text)\n",
    "        parsed_results.append(parsed)\n",
    "        # 파싱 결과가 없으면 True → 실패\n",
    "        parse_error_flags.append(len(parsed) == 0)\n",
    "\n",
    "    df_supp_checked = df_supp.copy()\n",
    "    df_supp_checked['parsed_ingredients'] = parsed_results\n",
    "    df_supp_checked['parse_error'] = parse_error_flags\n",
    "    return df_supp_checked\n",
    "\n",
    "# ✅ 실행\n",
    "df_supp_checked = parse_and_flag_supp(df_supp)\n"
   ]
  },
  {
   "cell_type": "code",
   "execution_count": 90,
   "id": "7064475b",
   "metadata": {},
   "outputs": [
    {
     "data": {
      "text/plain": [
       "325"
      ]
     },
     "execution_count": 90,
     "metadata": {},
     "output_type": "execute_result"
    }
   ],
   "source": [
    "len(df_supp_checked)"
   ]
  },
  {
   "cell_type": "code",
   "execution_count": 91,
   "id": "3cdbacf4",
   "metadata": {},
   "outputs": [
    {
     "name": "stdout",
     "output_type": "stream",
     "text": [
      "파싱 실패 레코드 수: 198\n",
      "수동 검토 파일: supplement_parse_errors.csv 저장 완료!\n"
     ]
    }
   ],
   "source": [
    "\n",
    "# 파싱 실패 데이터만 추출\n",
    "df_supp_errors = df_supp_checked[df_supp_checked['parse_error']]\n",
    "\n",
    "# 주요 컬럼만 저장\n",
    "cols_to_review = ['Title', 'Category 2', 'Category 3', 'Supplement Facts']\n",
    "df_supp_errors[cols_to_review].to_csv('supplement_parse_errors.csv', index=False)\n",
    "\n",
    "print(f\"파싱 실패 레코드 수: {len(df_supp_errors)}\")\n",
    "print(\"수동 검토 파일: supplement_parse_errors.csv 저장 완료!\")\n"
   ]
  },
  {
   "cell_type": "code",
   "execution_count": 92,
   "id": "0937b2bb",
   "metadata": {},
   "outputs": [
    {
     "name": "stdout",
     "output_type": "stream",
     "text": [
      "파싱 실패 레코드 수: 198\n"
     ]
    },
    {
     "data": {
      "text/html": [
       "<div>\n",
       "<style scoped>\n",
       "    .dataframe tbody tr th:only-of-type {\n",
       "        vertical-align: middle;\n",
       "    }\n",
       "\n",
       "    .dataframe tbody tr th {\n",
       "        vertical-align: top;\n",
       "    }\n",
       "\n",
       "    .dataframe thead th {\n",
       "        text-align: right;\n",
       "    }\n",
       "</style>\n",
       "<table border=\"1\" class=\"dataframe\">\n",
       "  <thead>\n",
       "    <tr style=\"text-align: right;\">\n",
       "      <th></th>\n",
       "      <th>Title</th>\n",
       "      <th>Category 2</th>\n",
       "      <th>Category 3</th>\n",
       "      <th>Supplement Facts</th>\n",
       "    </tr>\n",
       "  </thead>\n",
       "  <tbody>\n",
       "    <tr>\n",
       "      <th>0</th>\n",
       "      <td>MediNatura, WellMind Calming Day/Night, 100 Ta...</td>\n",
       "      <td>Homeopathy Formulas</td>\n",
       "      <td>Cognitive &amp; Memory Formulas</td>\n",
       "      <td>NaN</td>\n",
       "    </tr>\n",
       "    <tr>\n",
       "      <th>3</th>\n",
       "      <td>Natrol, B-Complex, Fast Dissolve, Coconut, 90 ...</td>\n",
       "      <td>Vitamin B Complex</td>\n",
       "      <td>NaN</td>\n",
       "      <td>Supplement FactsServing Size: 1 TabletServings...</td>\n",
       "    </tr>\n",
       "    <tr>\n",
       "      <th>24</th>\n",
       "      <td>NOW Foods, Glycine, Pure Powder, 1 lb (454 g)</td>\n",
       "      <td>L-Glycine</td>\n",
       "      <td>NaN</td>\n",
       "      <td>\\n\\nSupplement Facts\\n\\n\\nServing Size: 3/4 Le...</td>\n",
       "    </tr>\n",
       "    <tr>\n",
       "      <th>44</th>\n",
       "      <td>Nature's Bounty, Selenium, 200 mcg, 100 Tablets</td>\n",
       "      <td>Selenium</td>\n",
       "      <td>NaN</td>\n",
       "      <td>Supplement FactsServing Size: 1 TabletAmount P...</td>\n",
       "    </tr>\n",
       "    <tr>\n",
       "      <th>45</th>\n",
       "      <td>Dr. Mercola, Zinc plus Selenium, 30 Capsules</td>\n",
       "      <td>Zinc</td>\n",
       "      <td>Selenium</td>\n",
       "      <td>Supplement FactsServing Size: 1 CapsuleServing...</td>\n",
       "    </tr>\n",
       "    <tr>\n",
       "      <th>48</th>\n",
       "      <td>Zand, Echinacea Zinc, Very Cherry, 80 Throat L...</td>\n",
       "      <td>Zinc</td>\n",
       "      <td>Sore Throat &amp; Cough Lozenges</td>\n",
       "      <td>Supplement FactsServing Size: 1 lozenge (3.8 g...</td>\n",
       "    </tr>\n",
       "    <tr>\n",
       "      <th>56</th>\n",
       "      <td>Harney &amp; Sons, Paris Tea, 1 lb</td>\n",
       "      <td>Black Tea</td>\n",
       "      <td>Herbal Tea</td>\n",
       "      <td>NaN</td>\n",
       "    </tr>\n",
       "    <tr>\n",
       "      <th>58</th>\n",
       "      <td>Crystal Star, Liver Renew, 90 Vegetarian Capsules</td>\n",
       "      <td>Liver Formulas</td>\n",
       "      <td>NaN</td>\n",
       "      <td>Supplement FactsServing Size: 2 capsulesServin...</td>\n",
       "    </tr>\n",
       "    <tr>\n",
       "      <th>59</th>\n",
       "      <td>Superior Source, Methylcobalamin B-12, B-6 &amp; F...</td>\n",
       "      <td>Vitamin B</td>\n",
       "      <td>NaN</td>\n",
       "      <td>Supplement FactsServing Size: 1 MicroLingual® ...</td>\n",
       "    </tr>\n",
       "    <tr>\n",
       "      <th>61</th>\n",
       "      <td>Life Extension, Standardized Cistanche, 30 Veg...</td>\n",
       "      <td>Herbs</td>\n",
       "      <td>Immune Formulas</td>\n",
       "      <td>Supplement FactsServing Size: 1 Vegetarian Cap...</td>\n",
       "    </tr>\n",
       "  </tbody>\n",
       "</table>\n",
       "</div>"
      ],
      "text/plain": [
       "                                                Title           Category 2  \\\n",
       "0   MediNatura, WellMind Calming Day/Night, 100 Ta...  Homeopathy Formulas   \n",
       "3   Natrol, B-Complex, Fast Dissolve, Coconut, 90 ...    Vitamin B Complex   \n",
       "24      NOW Foods, Glycine, Pure Powder, 1 lb (454 g)            L-Glycine   \n",
       "44    Nature's Bounty, Selenium, 200 mcg, 100 Tablets             Selenium   \n",
       "45       Dr. Mercola, Zinc plus Selenium, 30 Capsules                 Zinc   \n",
       "48  Zand, Echinacea Zinc, Very Cherry, 80 Throat L...                 Zinc   \n",
       "56                    Harney & Sons, Paris Tea, 1 lb             Black Tea   \n",
       "58  Crystal Star, Liver Renew, 90 Vegetarian Capsules       Liver Formulas   \n",
       "59  Superior Source, Methylcobalamin B-12, B-6 & F...            Vitamin B   \n",
       "61  Life Extension, Standardized Cistanche, 30 Veg...                Herbs   \n",
       "\n",
       "                      Category 3  \\\n",
       "0    Cognitive & Memory Formulas   \n",
       "3                            NaN   \n",
       "24                           NaN   \n",
       "44                           NaN   \n",
       "45                      Selenium   \n",
       "48  Sore Throat & Cough Lozenges   \n",
       "56                    Herbal Tea   \n",
       "58                           NaN   \n",
       "59                           NaN   \n",
       "61               Immune Formulas   \n",
       "\n",
       "                                     Supplement Facts  \n",
       "0                                                 NaN  \n",
       "3   Supplement FactsServing Size: 1 TabletServings...  \n",
       "24  \\n\\nSupplement Facts\\n\\n\\nServing Size: 3/4 Le...  \n",
       "44  Supplement FactsServing Size: 1 TabletAmount P...  \n",
       "45  Supplement FactsServing Size: 1 CapsuleServing...  \n",
       "48  Supplement FactsServing Size: 1 lozenge (3.8 g...  \n",
       "56                                                NaN  \n",
       "58  Supplement FactsServing Size: 2 capsulesServin...  \n",
       "59  Supplement FactsServing Size: 1 MicroLingual® ...  \n",
       "61  Supplement FactsServing Size: 1 Vegetarian Cap...  "
      ]
     },
     "execution_count": 92,
     "metadata": {},
     "output_type": "execute_result"
    }
   ],
   "source": [
    "df_supp_errors = df_supp_checked[df_supp_checked['parse_error']]\n",
    "print(\"파싱 실패 레코드 수:\", len(df_supp_errors))\n",
    "df_supp_errors[['Title','Category 2','Category 3','Supplement Facts']].head(10)"
   ]
  },
  {
   "cell_type": "markdown",
   "id": "4f5998bd",
   "metadata": {},
   "source": [
    "### 파싱 실패 레코드 처리 \n",
    "- "
   ]
  }
 ],
 "metadata": {
  "kernelspec": {
   "display_name": "3.13.2",
   "language": "python",
   "name": "python3"
  },
  "language_info": {
   "codemirror_mode": {
    "name": "ipython",
    "version": 3
   },
   "file_extension": ".py",
   "mimetype": "text/x-python",
   "name": "python",
   "nbconvert_exporter": "python",
   "pygments_lexer": "ipython3",
   "version": "3.13.2"
  }
 },
 "nbformat": 4,
 "nbformat_minor": 5
}
