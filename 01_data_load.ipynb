{
 "cells": [
  {
   "cell_type": "markdown",
   "id": "a349863b",
   "metadata": {},
   "source": [
    "# 데이터 구조 이해 & SQL 스키마 설계\n",
    "- JSON 데이터 로드 및 컬럼 확인 (pandas)\n",
    "- 결측치·중복 데이터 확인/정제\n",
    "- SQL DB 스키마 설계 (Supplements, Ingredients, Supplement_Ingredients, Symptoms_Ingredients)• 증상–성분 매핑 테이블 초안 작성"
   ]
  },
  {
   "cell_type": "markdown",
   "id": "49d1689c",
   "metadata": {},
   "source": [
    "- json 파일 데이터 개수: 1241개, 23열 ( )"
   ]
  },
  {
   "cell_type": "code",
   "execution_count": null,
   "id": "f3d51a8b",
   "metadata": {},
   "outputs": [],
   "source": [
    "import pandas as pd\n",
    "import numpy as np"
   ]
  },
  {
   "cell_type": "code",
   "execution_count": null,
   "id": "c2449e85",
   "metadata": {},
   "outputs": [],
   "source": [
    "\n",
    "# 1) 로드\n",
    "fp = '/Users/gim-yujin/Desktop/pjt_personal_agent/영양소 데이터/iherb_data_uk_data_2022_12.json'\n",
    "df = pd.read_json(fp, orient='records')   # 파일이 리스트 of dicts 여야 정상\n",
    "# 2) 전체 컬럼 확인\n",
    "print(df.shape)\n",
    "print(df.columns.tolist())\n",
    "# 3) 샘플 확인\n",
    "display(df.head())\n",
    "# 4) 기본 타입 정리\n",
    "df['scraped_at'] = pd.to_datetime(df['scraped_at'], dayfirst=True, errors='coerce')"
   ]
  },
  {
   "cell_type": "code",
   "execution_count": null,
   "id": "f3a430d1",
   "metadata": {},
   "outputs": [],
   "source": []
  },
  {
   "cell_type": "code",
   "execution_count": null,
   "id": "678fc877",
   "metadata": {},
   "outputs": [],
   "source": [
    "print(\"##컬럼명 목록\")\n",
    "print(df.columns)\n",
    "print(\"-\" * 50)\n",
    "# 컬럼별 결측치 개수 확인 \n",
    "print(\"##컬럼별 결측치 개수 확인(공백 문자열이 결측치로 합산이 안되어 모두 0으로 표기됨)\")\n",
    "print(df.isnull().sum())"
   ]
  },
  {
   "cell_type": "markdown",
   "id": "6ccc363c",
   "metadata": {},
   "source": [
    "### 결측치 확인\n",
    "- 결측값이 존재하는 컬럼 및 개수\n",
    "- Category 2            4\n",
    "- Category 3          869\n",
    "- ingredients          61\n",
    "- Supplement Facts    530 (추후에 성분을 참고하여 채워 넣을 예정, 보충정보(영양성분))"
   ]
  },
  {
   "cell_type": "code",
   "execution_count": null,
   "id": "f4aa9896",
   "metadata": {},
   "outputs": [],
   "source": [
    "# (선택) 모든 컬럼에 대해 한 번에 적용할 수도 있습니다.\n",
    "df.replace(r'^\\s*$', np.nan, regex=True, inplace=True)\n",
    "print(\"\\n## 전체 데이터의 실제 결측치 수\")\n",
    "print(df.isnull().sum())"
   ]
  },
  {
   "cell_type": "code",
   "execution_count": null,
   "id": "9d12f25b",
   "metadata": {},
   "outputs": [],
   "source": [
    "#  각 컬럼의 결측치 개수를 계산\n",
    "missing_values = df.isnull().sum()\n",
    "#  결측치 개수가 0보다 큰 컬럼들만 필터링하여 출력합니다.\n",
    "columns_with_missing_values = missing_values[missing_values > 0]\n",
    "\n",
    "print(\"## 결측값이 존재하는 컬럼 및 개수\")\n",
    "if columns_with_missing_values.empty:\n",
    "    print(\"모든 컬럼의 데이터가 채워져 있습니다.\")\n",
    "else:\n",
    "    print(columns_with_missing_values)"
   ]
  },
  {
   "cell_type": "code",
   "execution_count": null,
   "id": "e4081542",
   "metadata": {},
   "outputs": [],
   "source": [
    "#결측값이 존재하는 컬럼 선택 출력 확인 \n",
    "\n",
    "df_missing = df[columns_with_missing_values.index]\n",
    "print(df_missing)"
   ]
  },
  {
   "cell_type": "code",
   "execution_count": null,
   "id": "e6827246",
   "metadata": {},
   "outputs": [],
   "source": [
    "df[columns_with_missing_values.index]"
   ]
  },
  {
   "cell_type": "markdown",
   "id": "3f6230bf",
   "metadata": {},
   "source": [
    "### 중복 제거 "
   ]
  },
  {
   "cell_type": "markdown",
   "id": "98231d0a",
   "metadata": {},
   "source": [
    "- unique_id 기준(0)\n",
    "- Pid, title 기준(0)\n",
    "- 중복되는 아이템은 없음\n"
   ]
  },
  {
   "cell_type": "code",
   "execution_count": null,
   "id": "75738431",
   "metadata": {},
   "outputs": [],
   "source": [
    "# 중복 제거 (uniqe_id 기준으로는 중복 없음.)\n",
    "df = df.drop_duplicates(subset=['uniq_id'])  \n",
    "# uniq_id가 있으면 안전\n",
    "df.drop_duplicates(subset=['Pid','Title'])\n",
    "print(df)"
   ]
  },
  {
   "cell_type": "code",
   "execution_count": null,
   "id": "86011d94",
   "metadata": {},
   "outputs": [],
   "source": [
    "df.drop_duplicates(subset=['Pid','Title']) #여기도 중복은 없는 것으로 확인 "
   ]
  },
  {
   "cell_type": "code",
   "execution_count": null,
   "id": "3cf6dbe3",
   "metadata": {},
   "outputs": [],
   "source": [
    "df['Price'] = df['Price'].astype(str)\n",
    "# price >> 문자열로 공백/ 쉼표 제고후 float\n",
    "df['Price'] = df['Price'].str.replace(',', '').str.strip()\n",
    "df['Price'] = pd.to_numeric(df['Price'], errors='coerce')\n"
   ]
  },
  {
   "cell_type": "markdown",
   "id": "2cbb30a6",
   "metadata": {},
   "source": [
    "### 불필요한 레코드 필터링 \n",
    "- 카테고리 1, 2 기준으로 키워드 필터링 한 결과, 해당 데이터셋에서 영양제와 관련된 상품 개수는 1221->325 개로 감소함.\n"
   ]
  },
  {
   "cell_type": "code",
   "execution_count": null,
   "id": "643e6ca8",
   "metadata": {},
   "outputs": [],
   "source": [
    "## 화장품/ 샴푸/ 식품/ 베이비 용품 등 필터링 \n",
    "non_supp_cats = ['Shampoo','Foundation','Face Wash','Utensils','Diapers']  # 예시\n",
    "df = df[~df['Category 2'].isin(non_supp_cats)]\n",
    "df.count"
   ]
  },
  {
   "cell_type": "code",
   "execution_count": null,
   "id": "4f62c033",
   "metadata": {},
   "outputs": [],
   "source": [
    "# 'Category 1' 컬럼의 모든 고유값 출력\n",
    "print(\"Category 1의 고유값:\", df['Category 1'].unique())\n",
    "\n",
    "# 'Category 2' 컬럼의 모든 고유값 출력\n",
    "print(\"Category 2의 고유값:\", df['Category 2'].unique())\n",
    "\n",
    "# 'Category 3' 컬럼의 모든 고유값 출력\n",
    "print(\"Category 3의 고유값:\", df['Category 3'].unique())"
   ]
  },
  {
   "cell_type": "code",
   "execution_count": null,
   "id": "c88166b5",
   "metadata": {},
   "outputs": [],
   "source": [
    "## 화이트리스트 키워드(supp_keywords)\n",
    "\n",
    "supp_keywords = [\n",
    "    # 비타민·미네랄\n",
    "    'vitamin', 'multivitamin', 'multimineral', 'b1', 'b2', 'b3', 'b6',\n",
    "    'b12', 'c', 'd', 'e', 'k', 'folic acid', 'niacin', 'biotin',\n",
    "    'calcium', 'magnesium', 'zinc', 'iron', 'selenium', 'potassium',\n",
    "    'iodine', 'trace minerals',\n",
    "\n",
    "    # 오메가 & 필수지방산\n",
    "    'omega', 'fish oil', 'krill oil', 'cod liver oil',\n",
    "    'efa', 'dha', 'epa',\n",
    "\n",
    "    # 허브·식물 추출물\n",
    "    'herb', 'herbal', 'ashwagandha', 'ginseng', 'echinacea', 'turmeric',\n",
    "    'curcumin', 'milk thistle', 'rhodiola', 'elderberry', 'boswellia',\n",
    "    'sambucus', 'hawthorn', 'garlic', 'ginger', 'licorice', 'oregano',\n",
    "    'passion flower', 'valerian', 'chamomile', 'nettle', 'schisandra',\n",
    "    'astragalus',\n",
    "\n",
    "    # 아미노산·단백질\n",
    "    'amino', 'amino acid', 'l-',   # L-Arginine, L-Tyrosine 등 앞에 L-이 붙음\n",
    "    'protein', 'collagen', 'peptide',\n",
    "\n",
    "    # 프로바이오틱/소화\n",
    "    'probiotic', 'prebiotic', 'lactobacillus', 'bifidus',\n",
    "    'digestive enzymes', 'enzyme',\n",
    "\n",
    "    # 항산화·기타 보조성분\n",
    "    'coq10', 'ubiquinol', 'alpha lipoic acid', 'resveratrol',\n",
    "    'pycnogenol', 'glutathione', 'chlorophyll', 'spirulina',\n",
    "    'chlorella', 'maca', 'bee pollen', 'royal jelly',\n",
    "\n",
    "    # 특수 목적 포뮬러\n",
    "    'immune', 'immune support', 'energy formula', 'sleep formula',\n",
    "    'cognitive', 'memory', 'joint', 'bone', 'liver', 'thyroid',\n",
    "    'blood support', 'heart support', 'detox', 'women\\'s health',\n",
    "    'men\\'s health', 'prenatal', 'post-natal',\n",
    "    'sports supplement', 'workout', 'weight management', 'fat burner',\n",
    "\n",
    "    # 형태·일반명\n",
    "    'supplement', 'dietary', 'nutrition', 'nutrient',\n",
    "    'superfood', 'greens', 'superfood blend'\n",
    "]\n"
   ]
  },
  {
   "cell_type": "code",
   "execution_count": null,
   "id": "8c1b103e",
   "metadata": {},
   "outputs": [],
   "source": [
    "import re\n",
    "\n",
    "def is_supplement_row(row):\n",
    "    cats = \" \".join([\n",
    "        str(row.get('Category 2', '')).lower(),\n",
    "        str(row.get('Category 3', '')).lower()\n",
    "    ])\n",
    "    return any(re.search(rf\"\\b{k}\\b\", cats) for k in supp_keywords)\n",
    "\n",
    "df_supp = df[df.apply(is_supplement_row, axis=1)].copy()\n",
    "\n",
    "print(f\"필터 전 {len(df)} → 필터 후 {len(df_supp)}\")"
   ]
  },
  {
   "cell_type": "markdown",
   "id": "d939af01",
   "metadata": {},
   "source": [
    "### 제대로 필터링 되었는지 확인 작업\n",
    "- 멀티비타민과, 비타민 구분하여 놓았는지 "
   ]
  },
  {
   "cell_type": "code",
   "execution_count": null,
   "id": "2b552e46",
   "metadata": {},
   "outputs": [],
   "source": [
    "\n",
    "# 'Category 1', 'Category 2', 'Category 3' 컬럼 중 하나라도 'vitamin c' 또는 'multivitamin'을 포함하는 행을 필터링합니다.\n",
    "category_filtered = df_supp[\n",
    "    df_supp['Category 1'].str.contains('vitamin c|multivitamin', case=False, na=False) |\n",
    "    df_supp['Category 2'].str.contains('vitamin c|multivitamin', case=False, na=False) |\n",
    "    df_supp['Category 3'].str.contains('vitamin c|multivitamin', case=False, na=False)\n",
    "]\n",
    "\n",
    "# 필터링된 결과 출력\n",
    "print(category_filtered[['Title', 'Category 1', 'Category 2', 'Category 3']])\n",
    "\n",
    "print(f\"\\n총 {len(category_filtered)}개의 데이터가 'vitamin c' 또는 'multivitamin' 키워드를 포함하고 있습니다.\")"
   ]
  },
  {
   "cell_type": "code",
   "execution_count": null,
   "id": "39b505d3",
   "metadata": {},
   "outputs": [],
   "source": [
    "\n",
    "# 2️⃣ 필터 적용\n",
    "df_supp = df[df.apply(is_supplement_row, axis=1)].copy()\n",
    "\n",
    "# 3️⃣ 무작위 100건 추출 (중복 없이)\n",
    "sample_100 = df_supp.sample(n=100, random_state=42)  # random_state는 재현성\n",
    "\n",
    "# 4️⃣ 검토에 유용한 컬럼만 보기\n",
    "cols_to_check = ['Title', 'Category 1', 'Category 2', 'Category 3', 'Description']\n",
    "print(sample_100[cols_to_check].to_string(index=False))\n",
    "\n",
    "# 또는 CSV로 내보내어 엑셀에서 수작업 검토\n",
    "sample_100[cols_to_check].to_csv(\"supplement_sample_check.csv\", index=False)\n",
    "print(\"✅ 샘플 100건이 'supplement_sample_check.csv' 로 저장되었습니다.\")"
   ]
  },
  {
   "cell_type": "code",
   "execution_count": null,
   "id": "546e0175",
   "metadata": {},
   "outputs": [],
   "source": [
    "# 1) 먼저 소문자로 통일\n",
    "def drop_k_beauty(df):\n",
    "    mask = (\n",
    "        df['Category 1'].astype(str).str.lower().str.contains('k-beauty', na=False) |\n",
    "        df['Category 2'].astype(str).str.lower().str.contains('k-beauty', na=False) |\n",
    "        df['Category 3'].astype(str).str.lower().str.contains('k-beauty', na=False)\n",
    "    )\n",
    "    return df[~mask].copy()\n",
    "\n",
    "# 기존 supp 필터 결과에서 추가 제거\n",
    "df_supp = drop_k_beauty(df_supp)\n",
    "print(f\"K-Beauty 제거 후 행 수: {len(df_supp)}\")"
   ]
  },
  {
   "cell_type": "code",
   "execution_count": null,
   "id": "6e90f54a",
   "metadata": {},
   "outputs": [],
   "source": [
    "# 3️⃣ 무작위 100건 추출 (중복 없이)\n",
    "sample_100 = df_supp.sample(n=100, random_state=42)  # random_state는 재현성\n",
    "\n",
    "# 4️⃣ 검토에 유용한 컬럼만 보기\n",
    "cols_to_check = ['Title', 'Category 1', 'Category 2', 'Category 3', 'Description']\n",
    "print(sample_100[cols_to_check].to_string(index=False))\n",
    "\n",
    "# 또는 CSV로 내보내어 엑셀에서 수작업 검토\n"
   ]
  }
 ],
 "metadata": {
  "kernelspec": {
   "display_name": "3.13.2",
   "language": "python",
   "name": "python3"
  },
  "language_info": {
   "codemirror_mode": {
    "name": "ipython",
    "version": 3
   },
   "file_extension": ".py",
   "mimetype": "text/x-python",
   "name": "python",
   "nbconvert_exporter": "python",
   "pygments_lexer": "ipython3",
   "version": "3.13.2"
  }
 },
 "nbformat": 4,
 "nbformat_minor": 5
}
