{
 "cells": [
  {
   "cell_type": "code",
   "execution_count": 3,
   "id": "50db24b4",
   "metadata": {},
   "outputs": [
    {
     "name": "stdout",
     "output_type": "stream",
     "text": [
      "📦 RAG용 JSON 파일 'supplement_rag_data_fixed.json' 저장 완료!\n"
     ]
    }
   ],
   "source": [
    "import pandas as pd\n",
    "import json\n",
    "import ast\n",
    "\n",
    "# ✅ CSV 불러오기\n",
    "df_parsed = pd.read_csv(\"/Users/gim-yujin/Desktop/pjt_personal_agent/영양소 데이터/parsed_supplements_final.csv\")\n",
    "\n",
    "# ✅ final_parsed 컬럼이 문자열(list 형태의 str)이라면, 실제 리스트로 변환 필요\n",
    "def convert_str_to_list(val):\n",
    "    if isinstance(val, str):\n",
    "        try:\n",
    "            return ast.literal_eval(val)\n",
    "        except:\n",
    "            return []\n",
    "    return val if isinstance(val, list) else []\n",
    "\n",
    "df_parsed[\"final_parsed\"] = df_parsed[\"final_parsed\"].apply(convert_str_to_list)\n",
    "\n",
    "# ✅ RAG용 JSON 변환\n",
    "def df_to_rag_json(df):\n",
    "    rag_data = []\n",
    "\n",
    "    for _, row in df.iterrows():\n",
    "        entry = {\n",
    "            \"title\": row[\"Title\"],\n",
    "            \"category\": [row.get(\"Category 1\", \"\"), row.get(\"Category 2\", \"\"), row.get(\"Category 3\", \"\")],\n",
    "            \"brand\": row.get(\"Brand\", \"\"),\n",
    "            \"supplement_facts\": row.get(\"final_parsed\", []),\n",
    "            \"description\": row.get(\"Description\", \"\"),\n",
    "            \"tags\": list({\n",
    "                *(str(row.get(\"Category 1\", \"\")).split()),\n",
    "                *(str(row.get(\"Category 2\", \"\")).split()),\n",
    "                *(str(row.get(\"Category 3\", \"\")).split()),\n",
    "                *(i[\"name\"] for i in row.get(\"final_parsed\", []) if isinstance(i, dict) and \"name\" in i)\n",
    "            })\n",
    "        }\n",
    "        rag_data.append(entry)\n",
    "    \n",
    "    return rag_data\n",
    "\n",
    "# ✅ JSON 저장\n",
    "rag_json = df_to_rag_json(df_parsed)\n",
    "with open(\"supplement_rag_data_fixed.json\", \"w\", encoding=\"utf-8\") as f:\n",
    "    json.dump(rag_json, f, ensure_ascii=False, indent=2)\n",
    "\n",
    "print(\"📦 RAG용 JSON 파일 'supplement_rag_data_fixed.json' 저장 완료!\")"
   ]
  }
 ],
 "metadata": {
  "kernelspec": {
   "display_name": "3.13.2",
   "language": "python",
   "name": "python3"
  },
  "language_info": {
   "codemirror_mode": {
    "name": "ipython",
    "version": 3
   },
   "file_extension": ".py",
   "mimetype": "text/x-python",
   "name": "python",
   "nbconvert_exporter": "python",
   "pygments_lexer": "ipython3",
   "version": "3.13.2"
  }
 },
 "nbformat": 4,
 "nbformat_minor": 5
}
