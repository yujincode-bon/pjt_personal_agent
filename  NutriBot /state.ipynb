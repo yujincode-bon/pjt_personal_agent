{
 "cells": [
  {
   "cell_type": "code",
   "execution_count": 2,
   "id": "cbfb120d",
   "metadata": {},
   "outputs": [],
   "source": [
    "# state.py\n",
    "\n",
    "from typing import List, Optional, Literal\n",
    "from pydantic import BaseModel\n",
    "\n",
    "# ✅ 사용자 프로필\n",
    "class UserProfile(BaseModel):\n",
    "    sex: Literal[\"male\", \"female\"]\n",
    "    age: int\n",
    "    symptoms: List[str]\n",
    "    current_intake: Optional[List[str]] = []\n",
    "\n",
    "# ✅ LangGraph 상태 전체\n",
    "class AgentState(BaseModel):\n",
    "    profile: Optional[UserProfile] = None\n",
    "    recommendations: Optional[List[dict]] = None\n",
    "    risk_report: Optional[str] = None\n",
    "    guideline: Optional[str] = None\n",
    "    answer: Optional[str] = None"
   ]
  }
 ],
 "metadata": {
  "kernelspec": {
   "display_name": "3.13.2",
   "language": "python",
   "name": "python3"
  },
  "language_info": {
   "codemirror_mode": {
    "name": "ipython",
    "version": 3
   },
   "file_extension": ".py",
   "mimetype": "text/x-python",
   "name": "python",
   "nbconvert_exporter": "python",
   "pygments_lexer": "ipython3",
   "version": "3.13.2"
  }
 },
 "nbformat": 4,
 "nbformat_minor": 5
}
