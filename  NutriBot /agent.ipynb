# agent.py

from langgraph.graph import StateGraph, END
from state import AgentState
from tools.db import get_supplements_from_db

# ✅ 노드 함수 정의
def recommendation_node(state: AgentState) -> AgentState:
    if not state.profile:
        raise ValueError("사용자 프로필 정보가 필요합니다.")

    symptoms = state.profile.symptoms
    sex = state.profile.sex
    age = state.profile.age

    # SQL 쿼리로 추천 제품 검색
    results = get_supplements_from_db(symptoms, sex, age)

    # 상태에 결과 저장
    state.recommendations = results
    return state

# ✅ 그래프 구성
def create_graph():
    builder = StateGraph(AgentState)
    builder.add_node("recommendation", recommendation_node)
    builder.set_entry_point("recommendation")
    builder.add_edge("recommendation", END)
    return builder.compile()

# ✅ 실행 예시
if __name__ == "__main__":
    graph = create_graph()
    
    # 테스트용 상태 입력
    test_state = AgentState(profile={
        "sex": "female",
        "age": 29,
        "symptoms": ["피로", "수면장애"]
    })

    result = graph.invoke(test_state)
    print(result.recommendations)